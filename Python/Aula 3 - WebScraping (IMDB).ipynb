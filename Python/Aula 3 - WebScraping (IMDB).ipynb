{
 "cells": [
  {
   "cell_type": "code",
   "execution_count": 25,
   "id": "2c806304-7708-4895-9e8b-defbc5231b53",
   "metadata": {
    "tags": []
   },
   "outputs": [
    {
     "name": "stdout",
     "output_type": "stream",
     "text": [
      "Python 3.11.5\n"
     ]
    }
   ],
   "source": [
    "!python --version"
   ]
  },
  {
   "cell_type": "code",
   "execution_count": 26,
   "id": "8ee776e9-118c-46c5-a4fb-83677a93a59e",
   "metadata": {
    "tags": []
   },
   "outputs": [
    {
     "name": "stdout",
     "output_type": "stream",
     "text": [
      "Requirement already satisfied: selenium in c:\\programdata\\anaconda3\\lib\\site-packages (4.23.1)\n",
      "Requirement already satisfied: urllib3[socks]<3,>=1.26 in c:\\programdata\\anaconda3\\lib\\site-packages (from selenium) (1.26.16)\n",
      "Requirement already satisfied: trio~=0.17 in c:\\programdata\\anaconda3\\lib\\site-packages (from selenium) (0.26.2)\n",
      "Requirement already satisfied: trio-websocket~=0.9 in c:\\programdata\\anaconda3\\lib\\site-packages (from selenium) (0.11.1)\n",
      "Requirement already satisfied: certifi>=2021.10.8 in c:\\programdata\\anaconda3\\lib\\site-packages (from selenium) (2023.7.22)\n",
      "Requirement already satisfied: typing_extensions~=4.9 in c:\\programdata\\anaconda3\\lib\\site-packages (from selenium) (4.12.2)\n",
      "Requirement already satisfied: websocket-client~=1.8 in c:\\programdata\\anaconda3\\lib\\site-packages (from selenium) (1.8.0)\n",
      "Requirement already satisfied: attrs>=23.2.0 in c:\\programdata\\anaconda3\\lib\\site-packages (from trio~=0.17->selenium) (24.2.0)\n",
      "Requirement already satisfied: sortedcontainers in c:\\programdata\\anaconda3\\lib\\site-packages (from trio~=0.17->selenium) (2.4.0)\n",
      "Requirement already satisfied: idna in c:\\programdata\\anaconda3\\lib\\site-packages (from trio~=0.17->selenium) (3.4)\n",
      "Requirement already satisfied: outcome in c:\\programdata\\anaconda3\\lib\\site-packages (from trio~=0.17->selenium) (1.3.0.post0)\n",
      "Requirement already satisfied: sniffio>=1.3.0 in c:\\programdata\\anaconda3\\lib\\site-packages (from trio~=0.17->selenium) (1.3.1)\n",
      "Requirement already satisfied: cffi>=1.14 in c:\\programdata\\anaconda3\\lib\\site-packages (from trio~=0.17->selenium) (1.15.1)\n",
      "Requirement already satisfied: wsproto>=0.14 in c:\\programdata\\anaconda3\\lib\\site-packages (from trio-websocket~=0.9->selenium) (1.2.0)\n",
      "Requirement already satisfied: PySocks!=1.5.7,<2.0,>=1.5.6 in c:\\programdata\\anaconda3\\lib\\site-packages (from urllib3[socks]<3,>=1.26->selenium) (1.7.1)\n",
      "Requirement already satisfied: pycparser in c:\\programdata\\anaconda3\\lib\\site-packages (from cffi>=1.14->trio~=0.17->selenium) (2.21)\n",
      "Requirement already satisfied: h11<1,>=0.9.0 in c:\\programdata\\anaconda3\\lib\\site-packages (from wsproto>=0.14->trio-websocket~=0.9->selenium) (0.14.0)\n"
     ]
    },
    {
     "name": "stderr",
     "output_type": "stream",
     "text": [
      "DEPRECATION: Loading egg at c:\\programdata\\anaconda3\\lib\\site-packages\\vboxapi-1.0-py3.11.egg is deprecated. pip 23.3 will enforce this behaviour change. A possible replacement is to use pip for package installation..\n"
     ]
    }
   ],
   "source": [
    "!pip install selenium"
   ]
  },
  {
   "cell_type": "code",
   "execution_count": 27,
   "id": "a684dbcf-6fbb-4738-bb2f-817881bd8d58",
   "metadata": {
    "tags": []
   },
   "outputs": [
    {
     "name": "stdout",
     "output_type": "stream",
     "text": [
      "Requirement already satisfied: beautifulsoup4 in c:\\programdata\\anaconda3\\lib\\site-packages (4.12.2)\n",
      "Requirement already satisfied: soupsieve>1.2 in c:\\programdata\\anaconda3\\lib\\site-packages (from beautifulsoup4) (2.4)\n"
     ]
    },
    {
     "name": "stderr",
     "output_type": "stream",
     "text": [
      "DEPRECATION: Loading egg at c:\\programdata\\anaconda3\\lib\\site-packages\\vboxapi-1.0-py3.11.egg is deprecated. pip 23.3 will enforce this behaviour change. A possible replacement is to use pip for package installation..\n"
     ]
    }
   ],
   "source": [
    "!pip install beautifulsoup4"
   ]
  },
  {
   "cell_type": "code",
   "execution_count": 28,
   "id": "944a7f74-2b37-4d91-a164-8ce0de320260",
   "metadata": {
    "tags": []
   },
   "outputs": [
    {
     "name": "stdout",
     "output_type": "stream",
     "text": [
      "Requirement already satisfied: webdriver-manager in c:\\programdata\\anaconda3\\lib\\site-packages (4.0.2)\n",
      "Requirement already satisfied: requests in c:\\programdata\\anaconda3\\lib\\site-packages (from webdriver-manager) (2.31.0)\n",
      "Requirement already satisfied: python-dotenv in c:\\programdata\\anaconda3\\lib\\site-packages (from webdriver-manager) (0.21.0)\n",
      "Requirement already satisfied: packaging in c:\\programdata\\anaconda3\\lib\\site-packages (from webdriver-manager) (23.1)\n",
      "Requirement already satisfied: charset-normalizer<4,>=2 in c:\\programdata\\anaconda3\\lib\\site-packages (from requests->webdriver-manager) (2.0.4)\n",
      "Requirement already satisfied: idna<4,>=2.5 in c:\\programdata\\anaconda3\\lib\\site-packages (from requests->webdriver-manager) (3.4)\n",
      "Requirement already satisfied: urllib3<3,>=1.21.1 in c:\\programdata\\anaconda3\\lib\\site-packages (from requests->webdriver-manager) (1.26.16)\n",
      "Requirement already satisfied: certifi>=2017.4.17 in c:\\programdata\\anaconda3\\lib\\site-packages (from requests->webdriver-manager) (2023.7.22)\n"
     ]
    },
    {
     "name": "stderr",
     "output_type": "stream",
     "text": [
      "DEPRECATION: Loading egg at c:\\programdata\\anaconda3\\lib\\site-packages\\vboxapi-1.0-py3.11.egg is deprecated. pip 23.3 will enforce this behaviour change. A possible replacement is to use pip for package installation..\n"
     ]
    }
   ],
   "source": [
    "!pip install webdriver-manager"
   ]
  },
  {
   "cell_type": "code",
   "execution_count": 29,
   "id": "5e510b76-578a-4a69-add9-0cc01e65c837",
   "metadata": {
    "tags": []
   },
   "outputs": [],
   "source": [
    "from selenium import webdriver\n",
    "from selenium.webdriver.chrome.options import Options\n",
    "from selenium.webdriver.chrome.service import Service as ChromeService\n",
    "\n",
    "from webdriver_manager.chrome import ChromeDriverManager\n",
    "\n",
    "from bs4 import BeautifulSoup"
   ]
  },
  {
   "cell_type": "code",
   "execution_count": 30,
   "id": "d881340f-05ff-45f6-b0ea-399fa301a6f5",
   "metadata": {
    "tags": []
   },
   "outputs": [],
   "source": [
    "from selenium.webdriver.common.by import By\n",
    "from selenium.webdriver.common.action_chains import ActionChains\n",
    "from selenium.webdriver.support import expected_conditions as EC\n",
    "from selenium.webdriver.support.ui import WebDriverWait\n",
    "\n",
    "import time"
   ]
  },
  {
   "cell_type": "code",
   "execution_count": 31,
   "id": "369dcbcb-fdac-4eeb-98ed-439afdf2c899",
   "metadata": {
    "tags": []
   },
   "outputs": [],
   "source": [
    "import re\n",
    "import pandas as pd"
   ]
  },
  {
   "cell_type": "code",
   "execution_count": 32,
   "id": "f74f33f4-73c3-4f8f-b6fa-b0eb3fa4f5e3",
   "metadata": {
    "tags": []
   },
   "outputs": [],
   "source": [
    "pd.set_option('display.max_rows', 100)\n",
    "pd.set_option('display.max_columns', None)\n",
    "pd.set_option('display.width', None)\n",
    "pd.set_option('display.max_colwidth', None)"
   ]
  },
  {
   "cell_type": "code",
   "execution_count": 33,
   "id": "45d553e3-ec78-408b-b090-e07d3ecef60b",
   "metadata": {
    "tags": []
   },
   "outputs": [],
   "source": [
    "def web_driver():\n",
    "    options = webdriver.ChromeOptions()\n",
    "    # options.add_argument('--headless')\n",
    "    options.add_argument('--window-size=1920, 1200')\n",
    "    options.add_argument('--lang=pt-BR')\n",
    "    # options.add_argument('--lang=en-US')\n",
    "    \n",
    "    driver = webdriver.Chrome(\n",
    "        service=ChromeService(ChromeDriverManager().install()),\n",
    "        options=options\n",
    "    )\n",
    "    \n",
    "    return driver\n",
    "\n",
    "# web_driver()\n",
    "\n",
    "def open_page(url):\n",
    "    driver = web_driver()\n",
    "    driver.get(url)\n",
    "    soup = get_page_source(driver)\n",
    "    return driver, soup\n",
    "    \n",
    "def get_page_source(driver):\n",
    "    res = driver.page_source.encode('utf-8')\n",
    "    soup = BeautifulSoup(res, 'html.parser')\n",
    "    return soup"
   ]
  },
  {
   "cell_type": "code",
   "execution_count": 34,
   "id": "63459719-8436-4de8-9688-960e083a0049",
   "metadata": {
    "tags": []
   },
   "outputs": [],
   "source": [
    "driver, soup = open_page('https://www.imdb.com/search/title/?groups=top_100&sort=user_rating,desc')\n",
    "\n",
    "button = WebDriverWait(driver, 10) \\\n",
    "            .until(EC.element_to_be_clickable((By.CLASS_NAME, 'ipc-see-more__button')))\n",
    "\n",
    "ActionChains(driver).move_to_element(button).click().perform()\n",
    "\n",
    "time.sleep(5)\n",
    "\n",
    "soup = get_page_source(driver)\n",
    "\n",
    "# print(soup.prettify().splitlines()[:10])\n",
    "ul_movies = soup.find('ul', attrs={'class': 'ipc-metadata-list'})\n",
    "li_movies = ul_movies.find_all('li', attrs={'class': 'ipc-metadata-list-summary-item'})\n",
    "\n",
    "movies = []\n",
    "\n",
    "for li_movie in li_movies:\n",
    "    link = li_movie.find('div', attrs={'class': 'ipc-title'}).find('a')['href']\n",
    "    id = link.split('/')[2]\n",
    "    title = li_movie.find('div', attrs={'class': 'ipc-title'}).find('a').text\n",
    "    title = re.sub(r'\\d+\\.\\s', '', title)\n",
    "    \n",
    "    metadata = li_movie.find('div', attrs={'class': 'dli-title-metadata'})\n",
    "    \n",
    "    #year = metadata.find_all('span')[0].text\n",
    "    year = metadata.find('span', string=re.compile(r'\\b\\d{4}\\b')).text\n",
    "    \n",
    "    #duration = metadata.find_all('span')[1].text\n",
    "    duration = metadata.find('span', string=re.compile(r'\\b\\d{1,2}h(\\s\\d{1,2}m)?\\b')).text\n",
    "    \n",
    "    try:\n",
    "        certificate = metadata.find_all('span')[2].text\n",
    "    except:\n",
    "        certificate = '-'\n",
    "        \n",
    "    rating = li_movie.find('span', attrs={'class': 'ipc-rating-star--rating'}).text\n",
    "    rating = rating.replace(',','.').strip() #trim\n",
    "    \n",
    "    vote_count = li_movie.find('span', attrs={'class': 'ipc-rating-star--voteCount'}).text\n",
    "    vote_count = re.sub(r'[()]', '', vote_count).replace(',','.').strip() #Strip -> Retirar os espaços em branco\n",
    "    vote_count = vote_count.replace(u'\\xa0', u' ')\n",
    "    \n",
    "    metascore = li_movie.find('span', attrs={'class': 'metacritic-score-box'})\n",
    "    metascore = metascore.text if metascore else '-'\n",
    "    \n",
    "    info = li_movie.find('div', attrs={'class': 'ipc-html-content-inner-div'}).text\n",
    "    \n",
    "    #print(id, title, link, year, duration, certificate, rating, vote_count, metascore, info)\n",
    "    \n",
    "    movies.append({\n",
    "        'id': id,\n",
    "        'title': title,\n",
    "        'link': link,\n",
    "        'year': year,\n",
    "        'duration': duration,\n",
    "        'certificate': certificate,\n",
    "        'rating': rating,\n",
    "        'vote_count': vote_count,\n",
    "        'metascore': metascore,\n",
    "        'info': info\n",
    "    })\n",
    "    \n",
    "driver.quit()"
   ]
  },
  {
   "cell_type": "code",
   "execution_count": 35,
   "id": "67babc8f-9b18-4e88-9aa7-0c8f2cdbe797",
   "metadata": {},
   "outputs": [
    {
     "name": "stdout",
     "output_type": "stream",
     "text": [
      "100\n"
     ]
    },
    {
     "data": {
      "text/plain": [
       "[{'id': 'tt0111161',\n",
       "  'title': 'Um Sonho de Liberdade',\n",
       "  'link': '/title/tt0111161/?ref_=sr_t_1',\n",
       "  'year': '1994',\n",
       "  'duration': '2h 22m',\n",
       "  'certificate': '16',\n",
       "  'rating': '9.3',\n",
       "  'vote_count': '2.9 mi',\n",
       "  'metascore': '82',\n",
       "  'info': 'Dois homens presos se reúnem ao longo de vários anos, encontrando consolo e eventual redenção através de atos de decência comum.'},\n",
       " {'id': 'tt0068646',\n",
       "  'title': 'O Poderoso Chefão',\n",
       "  'link': '/title/tt0068646/?ref_=sr_t_2',\n",
       "  'year': '1972',\n",
       "  'duration': '2h 55m',\n",
       "  'certificate': '14',\n",
       "  'rating': '9.2',\n",
       "  'vote_count': '2 mi',\n",
       "  'metascore': '100',\n",
       "  'info': 'O patriarca idoso de uma dinastia do crime organizado transfere o controle de seu império clandestino para seu filho relutante.'},\n",
       " {'id': 'tt0468569',\n",
       "  'title': 'Batman: O Cavaleiro das Trevas',\n",
       "  'link': '/title/tt0468569/?ref_=sr_t_3',\n",
       "  'year': '2008',\n",
       "  'duration': '2h 32m',\n",
       "  'certificate': '12',\n",
       "  'rating': '9.0',\n",
       "  'vote_count': '2.9 mi',\n",
       "  'metascore': '84',\n",
       "  'info': 'Agora com a ajuda do tenente Jim Gordon e do promotor público Harvey Dent, Batman tem tudo para banir o crime de Gotham City de uma vez por todas. Mas em breve, os três serão vítimas do Coringa, que pretende lançar Gotham em uma anarquia.'}]"
      ]
     },
     "execution_count": 35,
     "metadata": {},
     "output_type": "execute_result"
    }
   ],
   "source": [
    "print(len(movies))\n",
    "movies[:3]"
   ]
  },
  {
   "cell_type": "code",
   "execution_count": 36,
   "id": "b9e597ca-dcc2-4ded-806f-525a5d9bda7a",
   "metadata": {
    "tags": []
   },
   "outputs": [
    {
     "data": {
      "text/plain": [
       "id              object\n",
       "title           object\n",
       "link            object\n",
       "year             int64\n",
       "duration        object\n",
       "certificate     object\n",
       "rating         float64\n",
       "vote_count      object\n",
       "metascore      float64\n",
       "info            object\n",
       "dtype: object"
      ]
     },
     "execution_count": 36,
     "metadata": {},
     "output_type": "execute_result"
    }
   ],
   "source": [
    "df = pd.DataFrame.from_dict(movies)\n",
    "\n",
    "for column in ['year', 'rating', 'metascore']:\n",
    "    df[column] = pd.to_numeric(df[column], errors='coerce')\n",
    "\n",
    "df.dtypes"
   ]
  },
  {
   "cell_type": "code",
   "execution_count": 37,
   "id": "bb64b964-2726-463c-a449-c1ebb5ee4fb6",
   "metadata": {
    "tags": []
   },
   "outputs": [
    {
     "data": {
      "text/html": [
       "<div>\n",
       "<style scoped>\n",
       "    .dataframe tbody tr th:only-of-type {\n",
       "        vertical-align: middle;\n",
       "    }\n",
       "\n",
       "    .dataframe tbody tr th {\n",
       "        vertical-align: top;\n",
       "    }\n",
       "\n",
       "    .dataframe thead th {\n",
       "        text-align: right;\n",
       "    }\n",
       "</style>\n",
       "<table border=\"1\" class=\"dataframe\">\n",
       "  <thead>\n",
       "    <tr style=\"text-align: right;\">\n",
       "      <th></th>\n",
       "      <th>year</th>\n",
       "      <th>count</th>\n",
       "    </tr>\n",
       "  </thead>\n",
       "  <tbody>\n",
       "    <tr>\n",
       "      <th>0</th>\n",
       "      <td>1994</td>\n",
       "      <td>5</td>\n",
       "    </tr>\n",
       "    <tr>\n",
       "      <th>1</th>\n",
       "      <td>1999</td>\n",
       "      <td>4</td>\n",
       "    </tr>\n",
       "    <tr>\n",
       "      <th>2</th>\n",
       "      <td>1995</td>\n",
       "      <td>4</td>\n",
       "    </tr>\n",
       "    <tr>\n",
       "      <th>3</th>\n",
       "      <td>2019</td>\n",
       "      <td>3</td>\n",
       "    </tr>\n",
       "    <tr>\n",
       "      <th>4</th>\n",
       "      <td>2018</td>\n",
       "      <td>3</td>\n",
       "    </tr>\n",
       "    <tr>\n",
       "      <th>5</th>\n",
       "      <td>2012</td>\n",
       "      <td>3</td>\n",
       "    </tr>\n",
       "    <tr>\n",
       "      <th>6</th>\n",
       "      <td>2006</td>\n",
       "      <td>3</td>\n",
       "    </tr>\n",
       "    <tr>\n",
       "      <th>7</th>\n",
       "      <td>2002</td>\n",
       "      <td>3</td>\n",
       "    </tr>\n",
       "    <tr>\n",
       "      <th>8</th>\n",
       "      <td>2000</td>\n",
       "      <td>3</td>\n",
       "    </tr>\n",
       "    <tr>\n",
       "      <th>9</th>\n",
       "      <td>1997</td>\n",
       "      <td>3</td>\n",
       "    </tr>\n",
       "  </tbody>\n",
       "</table>\n",
       "</div>"
      ],
      "text/plain": [
       "   year  count\n",
       "0  1994      5\n",
       "1  1999      4\n",
       "2  1995      4\n",
       "3  2019      3\n",
       "4  2018      3\n",
       "5  2012      3\n",
       "6  2006      3\n",
       "7  2002      3\n",
       "8  2000      3\n",
       "9  1997      3"
      ]
     },
     "execution_count": 37,
     "metadata": {},
     "output_type": "execute_result"
    }
   ],
   "source": [
    "# top 10 maior quantidade de filmes entre o top 100\n",
    "df.value_counts(subset=['year']) \\\n",
    "    .to_frame().reset_index() \\\n",
    "    .sort_values(by=['count', 'year'], ascending=[False, False], ignore_index=True).head(10)"
   ]
  },
  {
   "cell_type": "code",
   "execution_count": 38,
   "id": "dcc43e4e-f8be-46d9-ab91-a83e17601de4",
   "metadata": {
    "tags": []
   },
   "outputs": [
    {
     "data": {
      "text/html": [
       "<div>\n",
       "<style scoped>\n",
       "    .dataframe tbody tr th:only-of-type {\n",
       "        vertical-align: middle;\n",
       "    }\n",
       "\n",
       "    .dataframe tbody tr th {\n",
       "        vertical-align: top;\n",
       "    }\n",
       "\n",
       "    .dataframe thead th {\n",
       "        text-align: right;\n",
       "    }\n",
       "</style>\n",
       "<table border=\"1\" class=\"dataframe\">\n",
       "  <thead>\n",
       "    <tr style=\"text-align: right;\">\n",
       "      <th></th>\n",
       "      <th>id</th>\n",
       "      <th>title</th>\n",
       "      <th>link</th>\n",
       "      <th>year</th>\n",
       "      <th>duration</th>\n",
       "      <th>certificate</th>\n",
       "      <th>rating</th>\n",
       "      <th>vote_count</th>\n",
       "      <th>metascore</th>\n",
       "      <th>info</th>\n",
       "    </tr>\n",
       "  </thead>\n",
       "  <tbody>\n",
       "    <tr>\n",
       "      <th>0</th>\n",
       "      <td>tt0111161</td>\n",
       "      <td>Um Sonho de Liberdade</td>\n",
       "      <td>/title/tt0111161/?ref_=sr_t_1</td>\n",
       "      <td>1994</td>\n",
       "      <td>2h 22m</td>\n",
       "      <td>16</td>\n",
       "      <td>9.3</td>\n",
       "      <td>2.9 mi</td>\n",
       "      <td>82.0</td>\n",
       "      <td>Dois homens presos se reúnem ao longo de vários anos, encontrando consolo e eventual redenção através de atos de decência comum.</td>\n",
       "    </tr>\n",
       "    <tr>\n",
       "      <th>1</th>\n",
       "      <td>tt0068646</td>\n",
       "      <td>O Poderoso Chefão</td>\n",
       "      <td>/title/tt0068646/?ref_=sr_t_2</td>\n",
       "      <td>1972</td>\n",
       "      <td>2h 55m</td>\n",
       "      <td>14</td>\n",
       "      <td>9.2</td>\n",
       "      <td>2 mi</td>\n",
       "      <td>100.0</td>\n",
       "      <td>O patriarca idoso de uma dinastia do crime organizado transfere o controle de seu império clandestino para seu filho relutante.</td>\n",
       "    </tr>\n",
       "  </tbody>\n",
       "</table>\n",
       "</div>"
      ],
      "text/plain": [
       "          id                  title                           link  year  \\\n",
       "0  tt0111161  Um Sonho de Liberdade  /title/tt0111161/?ref_=sr_t_1  1994   \n",
       "1  tt0068646      O Poderoso Chefão  /title/tt0068646/?ref_=sr_t_2  1972   \n",
       "\n",
       "  duration certificate  rating vote_count  metascore  \\\n",
       "0   2h 22m          16     9.3     2.9 mi       82.0   \n",
       "1   2h 55m          14     9.2       2 mi      100.0   \n",
       "\n",
       "                                                                                                                               info  \n",
       "0  Dois homens presos se reúnem ao longo de vários anos, encontrando consolo e eventual redenção através de atos de decência comum.  \n",
       "1   O patriarca idoso de uma dinastia do crime organizado transfere o controle de seu império clandestino para seu filho relutante.  "
      ]
     },
     "execution_count": 38,
     "metadata": {},
     "output_type": "execute_result"
    }
   ],
   "source": [
    "df.head(2)"
   ]
  },
  {
   "cell_type": "code",
   "execution_count": 39,
   "id": "27cf96cb-ab18-425a-9b32-040d84820f22",
   "metadata": {
    "tags": []
   },
   "outputs": [
    {
     "name": "stdout",
     "output_type": "stream",
     "text": [
      "142\n",
      "120\n"
     ]
    }
   ],
   "source": [
    "def to_minutes(duration):\n",
    "    parts = duration.split()\n",
    "    hours = minutes = 0\n",
    "    for part in parts:\n",
    "        if 'h' in part:\n",
    "            hours = int(part.replace('h', ''))\n",
    "        elif 'm' in part:\n",
    "            minutes = int(part.replace('m', ''))\n",
    "    return hours * 60 + minutes\n",
    "\n",
    "print(to_minutes('2h 22m'))\n",
    "print(to_minutes('2h'))"
   ]
  },
  {
   "cell_type": "code",
   "execution_count": 40,
   "id": "a0e47cfd-c30e-4fa5-8699-3ab12d536774",
   "metadata": {
    "tags": []
   },
   "outputs": [
    {
     "data": {
      "text/html": [
       "<div>\n",
       "<style scoped>\n",
       "    .dataframe tbody tr th:only-of-type {\n",
       "        vertical-align: middle;\n",
       "    }\n",
       "\n",
       "    .dataframe tbody tr th {\n",
       "        vertical-align: top;\n",
       "    }\n",
       "\n",
       "    .dataframe thead th {\n",
       "        text-align: right;\n",
       "    }\n",
       "</style>\n",
       "<table border=\"1\" class=\"dataframe\">\n",
       "  <thead>\n",
       "    <tr style=\"text-align: right;\">\n",
       "      <th></th>\n",
       "      <th>id</th>\n",
       "      <th>title</th>\n",
       "      <th>link</th>\n",
       "      <th>year</th>\n",
       "      <th>duration</th>\n",
       "      <th>certificate</th>\n",
       "      <th>rating</th>\n",
       "      <th>vote_count</th>\n",
       "      <th>metascore</th>\n",
       "      <th>info</th>\n",
       "      <th>duration-min</th>\n",
       "    </tr>\n",
       "  </thead>\n",
       "  <tbody>\n",
       "    <tr>\n",
       "      <th>0</th>\n",
       "      <td>tt0111161</td>\n",
       "      <td>Um Sonho de Liberdade</td>\n",
       "      <td>/title/tt0111161/?ref_=sr_t_1</td>\n",
       "      <td>1994</td>\n",
       "      <td>2h 22m</td>\n",
       "      <td>16</td>\n",
       "      <td>9.3</td>\n",
       "      <td>2.9 mi</td>\n",
       "      <td>82.0</td>\n",
       "      <td>Dois homens presos se reúnem ao longo de vários anos, encontrando consolo e eventual redenção através de atos de decência comum.</td>\n",
       "      <td>142</td>\n",
       "    </tr>\n",
       "    <tr>\n",
       "      <th>1</th>\n",
       "      <td>tt0068646</td>\n",
       "      <td>O Poderoso Chefão</td>\n",
       "      <td>/title/tt0068646/?ref_=sr_t_2</td>\n",
       "      <td>1972</td>\n",
       "      <td>2h 55m</td>\n",
       "      <td>14</td>\n",
       "      <td>9.2</td>\n",
       "      <td>2 mi</td>\n",
       "      <td>100.0</td>\n",
       "      <td>O patriarca idoso de uma dinastia do crime organizado transfere o controle de seu império clandestino para seu filho relutante.</td>\n",
       "      <td>175</td>\n",
       "    </tr>\n",
       "  </tbody>\n",
       "</table>\n",
       "</div>"
      ],
      "text/plain": [
       "          id                  title                           link  year  \\\n",
       "0  tt0111161  Um Sonho de Liberdade  /title/tt0111161/?ref_=sr_t_1  1994   \n",
       "1  tt0068646      O Poderoso Chefão  /title/tt0068646/?ref_=sr_t_2  1972   \n",
       "\n",
       "  duration certificate  rating vote_count  metascore  \\\n",
       "0   2h 22m          16     9.3     2.9 mi       82.0   \n",
       "1   2h 55m          14     9.2       2 mi      100.0   \n",
       "\n",
       "                                                                                                                               info  \\\n",
       "0  Dois homens presos se reúnem ao longo de vários anos, encontrando consolo e eventual redenção através de atos de decência comum.   \n",
       "1   O patriarca idoso de uma dinastia do crime organizado transfere o controle de seu império clandestino para seu filho relutante.   \n",
       "\n",
       "   duration-min  \n",
       "0           142  \n",
       "1           175  "
      ]
     },
     "execution_count": 40,
     "metadata": {},
     "output_type": "execute_result"
    }
   ],
   "source": [
    "df['duration-min'] = df['duration'].apply(to_minutes)\n",
    "df.head(2)"
   ]
  },
  {
   "cell_type": "code",
   "execution_count": 41,
   "id": "399d4c87-36c8-454f-b911-beae6453fab7",
   "metadata": {
    "tags": []
   },
   "outputs": [
    {
     "data": {
      "text/html": [
       "<div>\n",
       "<style scoped>\n",
       "    .dataframe tbody tr th:only-of-type {\n",
       "        vertical-align: middle;\n",
       "    }\n",
       "\n",
       "    .dataframe tbody tr th {\n",
       "        vertical-align: top;\n",
       "    }\n",
       "\n",
       "    .dataframe thead th {\n",
       "        text-align: right;\n",
       "    }\n",
       "</style>\n",
       "<table border=\"1\" class=\"dataframe\">\n",
       "  <thead>\n",
       "    <tr style=\"text-align: right;\">\n",
       "      <th></th>\n",
       "      <th>id</th>\n",
       "      <th>title</th>\n",
       "      <th>link</th>\n",
       "      <th>year</th>\n",
       "      <th>duration</th>\n",
       "      <th>certificate</th>\n",
       "      <th>rating</th>\n",
       "      <th>vote_count</th>\n",
       "      <th>metascore</th>\n",
       "      <th>info</th>\n",
       "      <th>duration-min</th>\n",
       "    </tr>\n",
       "  </thead>\n",
       "  <tbody>\n",
       "    <tr>\n",
       "      <th>0</th>\n",
       "      <td>tt0114709</td>\n",
       "      <td>Toy Story</td>\n",
       "      <td>/title/tt0114709/?ref_=sr_t_88</td>\n",
       "      <td>1995</td>\n",
       "      <td>1h 21m</td>\n",
       "      <td>Livre</td>\n",
       "      <td>8.3</td>\n",
       "      <td>1.1 mi</td>\n",
       "      <td>96.0</td>\n",
       "      <td>Um brinquedo do cauboi se sente profundamente ameaçado e celoso quando um brinquedo patrulheiro espacial passa a ter mais atençao do garoto.</td>\n",
       "      <td>81</td>\n",
       "    </tr>\n",
       "    <tr>\n",
       "      <th>1</th>\n",
       "      <td>tt0021749</td>\n",
       "      <td>Luzes da Cidade</td>\n",
       "      <td>/title/tt0021749/?ref_=sr_t_56</td>\n",
       "      <td>1931</td>\n",
       "      <td>1h 27m</td>\n",
       "      <td>Livre</td>\n",
       "      <td>8.5</td>\n",
       "      <td>198 mil</td>\n",
       "      <td>99.0</td>\n",
       "      <td>Com a ajuda de um homem rico, bêbado e imprevisível, um vagabundo ingênuo que se apaixonou por uma florista cega tenta conseguir dinheiro para fornecer ajuda médica.</td>\n",
       "      <td>87</td>\n",
       "    </tr>\n",
       "    <tr>\n",
       "      <th>2</th>\n",
       "      <td>tt0027977</td>\n",
       "      <td>Tempos Modernos</td>\n",
       "      <td>/title/tt0027977/?ref_=sr_t_55</td>\n",
       "      <td>1936</td>\n",
       "      <td>1h 27m</td>\n",
       "      <td>Livre</td>\n",
       "      <td>8.5</td>\n",
       "      <td>263 mil</td>\n",
       "      <td>96.0</td>\n",
       "      <td>Um vagabundo luta para viver na sociedade industrial moderna com a ajuda de uma jovem.</td>\n",
       "      <td>87</td>\n",
       "    </tr>\n",
       "  </tbody>\n",
       "</table>\n",
       "</div>"
      ],
      "text/plain": [
       "          id            title                            link  year duration  \\\n",
       "0  tt0114709        Toy Story  /title/tt0114709/?ref_=sr_t_88  1995   1h 21m   \n",
       "1  tt0021749  Luzes da Cidade  /title/tt0021749/?ref_=sr_t_56  1931   1h 27m   \n",
       "2  tt0027977  Tempos Modernos  /title/tt0027977/?ref_=sr_t_55  1936   1h 27m   \n",
       "\n",
       "  certificate  rating vote_count  metascore  \\\n",
       "0       Livre     8.3     1.1 mi       96.0   \n",
       "1       Livre     8.5    198 mil       99.0   \n",
       "2       Livre     8.5    263 mil       96.0   \n",
       "\n",
       "                                                                                                                                                                    info  \\\n",
       "0                           Um brinquedo do cauboi se sente profundamente ameaçado e celoso quando um brinquedo patrulheiro espacial passa a ter mais atençao do garoto.   \n",
       "1  Com a ajuda de um homem rico, bêbado e imprevisível, um vagabundo ingênuo que se apaixonou por uma florista cega tenta conseguir dinheiro para fornecer ajuda médica.   \n",
       "2                                                                                 Um vagabundo luta para viver na sociedade industrial moderna com a ajuda de uma jovem.   \n",
       "\n",
       "   duration-min  \n",
       "0            81  \n",
       "1            87  \n",
       "2            87  "
      ]
     },
     "execution_count": 41,
     "metadata": {},
     "output_type": "execute_result"
    }
   ],
   "source": [
    "df.sort_values(by=['duration-min', 'title'], ascending=[True, True], ignore_index=True).head(3)"
   ]
  },
  {
   "cell_type": "code",
   "execution_count": 42,
   "id": "b8da20aa-40de-4b8d-84ba-e8a7296418fd",
   "metadata": {
    "tags": []
   },
   "outputs": [
    {
     "data": {
      "text/html": [
       "<div>\n",
       "<style scoped>\n",
       "    .dataframe tbody tr th:only-of-type {\n",
       "        vertical-align: middle;\n",
       "    }\n",
       "\n",
       "    .dataframe tbody tr th {\n",
       "        vertical-align: top;\n",
       "    }\n",
       "\n",
       "    .dataframe thead th {\n",
       "        text-align: right;\n",
       "    }\n",
       "</style>\n",
       "<table border=\"1\" class=\"dataframe\">\n",
       "  <thead>\n",
       "    <tr style=\"text-align: right;\">\n",
       "      <th></th>\n",
       "      <th>id</th>\n",
       "      <th>title</th>\n",
       "      <th>link</th>\n",
       "      <th>year</th>\n",
       "      <th>duration</th>\n",
       "      <th>certificate</th>\n",
       "      <th>rating</th>\n",
       "      <th>vote_count</th>\n",
       "      <th>metascore</th>\n",
       "      <th>info</th>\n",
       "      <th>duration-min</th>\n",
       "    </tr>\n",
       "  </thead>\n",
       "  <tbody>\n",
       "    <tr>\n",
       "      <th>97</th>\n",
       "      <td>tt0047478</td>\n",
       "      <td>Os Sete Samurais</td>\n",
       "      <td>/title/tt0047478/?ref_=sr_t_31</td>\n",
       "      <td>1954</td>\n",
       "      <td>3h 27m</td>\n",
       "      <td>10</td>\n",
       "      <td>8.6</td>\n",
       "      <td>372 mil</td>\n",
       "      <td>98.0</td>\n",
       "      <td>Uma aldeia pobre sob a ameaça de bandidos recruta sete samurais para ajudá-los a se defenderem.</td>\n",
       "      <td>207</td>\n",
       "    </tr>\n",
       "    <tr>\n",
       "      <th>98</th>\n",
       "      <td>tt0056172</td>\n",
       "      <td>Lawrence da Arábia</td>\n",
       "      <td>/title/tt0056172/?ref_=sr_t_94</td>\n",
       "      <td>1962</td>\n",
       "      <td>3h 38m</td>\n",
       "      <td>14</td>\n",
       "      <td>8.3</td>\n",
       "      <td>319 mil</td>\n",
       "      <td>100.0</td>\n",
       "      <td>A história de T. E. Lawrence, o oficial inglês que conseguiu unir e liderar várias tribos árabes, durante a Primeira Guerra Mundial para lutar contra os turcos.</td>\n",
       "      <td>218</td>\n",
       "    </tr>\n",
       "    <tr>\n",
       "      <th>99</th>\n",
       "      <td>tt0087843</td>\n",
       "      <td>Era uma Vez na América</td>\n",
       "      <td>/title/tt0087843/?ref_=sr_t_93</td>\n",
       "      <td>1984</td>\n",
       "      <td>3h 49m</td>\n",
       "      <td>18</td>\n",
       "      <td>8.3</td>\n",
       "      <td>383 mil</td>\n",
       "      <td>75.0</td>\n",
       "      <td>Dois amigos leais crescem juntos cometendo pequenos crimes nas ruas do Lower East Side, em Manhattan, mas essa parceria com o tempo se desfaz em morte e mistério.</td>\n",
       "      <td>229</td>\n",
       "    </tr>\n",
       "  </tbody>\n",
       "</table>\n",
       "</div>"
      ],
      "text/plain": [
       "           id                   title                            link  year  \\\n",
       "97  tt0047478        Os Sete Samurais  /title/tt0047478/?ref_=sr_t_31  1954   \n",
       "98  tt0056172      Lawrence da Arábia  /title/tt0056172/?ref_=sr_t_94  1962   \n",
       "99  tt0087843  Era uma Vez na América  /title/tt0087843/?ref_=sr_t_93  1984   \n",
       "\n",
       "   duration certificate  rating vote_count  metascore  \\\n",
       "97   3h 27m          10     8.6    372 mil       98.0   \n",
       "98   3h 38m          14     8.3    319 mil      100.0   \n",
       "99   3h 49m          18     8.3    383 mil       75.0   \n",
       "\n",
       "                                                                                                                                                                  info  \\\n",
       "97                                                                     Uma aldeia pobre sob a ameaça de bandidos recruta sete samurais para ajudá-los a se defenderem.   \n",
       "98    A história de T. E. Lawrence, o oficial inglês que conseguiu unir e liderar várias tribos árabes, durante a Primeira Guerra Mundial para lutar contra os turcos.   \n",
       "99  Dois amigos leais crescem juntos cometendo pequenos crimes nas ruas do Lower East Side, em Manhattan, mas essa parceria com o tempo se desfaz em morte e mistério.   \n",
       "\n",
       "    duration-min  \n",
       "97           207  \n",
       "98           218  \n",
       "99           229  "
      ]
     },
     "execution_count": 42,
     "metadata": {},
     "output_type": "execute_result"
    }
   ],
   "source": [
    "df.sort_values(by=['duration-min', 'title'], ascending=[True, True], ignore_index=True).tail(3)"
   ]
  },
  {
   "cell_type": "code",
   "execution_count": 43,
   "id": "2195da75-de7a-42e7-afaa-34f25c142d3d",
   "metadata": {
    "tags": []
   },
   "outputs": [
    {
     "data": {
      "text/plain": [
       "{'id': 'tt0111161',\n",
       " 'title': 'Um Sonho de Liberdade',\n",
       " 'link': '/title/tt0111161/?ref_=sr_t_1',\n",
       " 'year': '1994',\n",
       " 'duration': '2h 22m',\n",
       " 'certificate': '16',\n",
       " 'rating': '9.3',\n",
       " 'vote_count': '2.9 mi',\n",
       " 'metascore': '82',\n",
       " 'info': 'Dois homens presos se reúnem ao longo de vários anos, encontrando consolo e eventual redenção através de atos de decência comum.'}"
      ]
     },
     "execution_count": 43,
     "metadata": {},
     "output_type": "execute_result"
    }
   ],
   "source": [
    "movies[0]"
   ]
  },
  {
   "cell_type": "code",
   "execution_count": 44,
   "id": "4a142fdc-d3de-4126-879f-3c0dcdbe10ab",
   "metadata": {
    "tags": []
   },
   "outputs": [],
   "source": [
    "def find_non_none(tag1, tag2):\n",
    "    if tag1:\n",
    "        return tag1\n",
    "    elif tag2:\n",
    "        return tag2\n",
    "    return None"
   ]
  },
  {
   "cell_type": "code",
   "execution_count": 57,
   "id": "bd250b04-46ed-44c5-951e-428347ea25d6",
   "metadata": {
    "tags": []
   },
   "outputs": [
    {
     "name": "stdout",
     "output_type": "stream",
     "text": [
      "tt0111161 Um Sonho de Liberdade https://www.imdb.com/title/tt0111161/?ref_=sr_t_1\n"
     ]
    }
   ],
   "source": [
    "for movie in movies[:1]:\n",
    "    link = f'https://www.imdb.com{movie[\"link\"]}'\n",
    "    print(movie['id'], movie['title'], link)\n",
    "    \n",
    "    driver, soup = open_page(link)\n",
    "    \n",
    "    interests = soup. find('div', attrs={'class': 'ipc-chip-list__scroller'}) \\\n",
    "        .find_all('a', attrs={'class': 'ipc-chip'})\n",
    "    interests = [interest.text for interest in interests]\n",
    "    #print(interests)\n",
    "    movie['interests'] = interests\n",
    "    \n",
    "    # ---------\n",
    "    \n",
    "    movie_metadata = soup.find('ul', attrs={'class': 'ipc-metadata-list'})\n",
    "    \n",
    "    directors = find_non_none(\n",
    "                            movie_metadata.find('span', string='Direção'),\n",
    "                            movie_metadata.find('a', string='Direção')\n",
    "                        ) \\\n",
    "                        .find_parent().find_all('li', attrs={'class': 'ipc-inline-list__item'})\n",
    "    directors = [directors.text for directors in directors]\n",
    "    #print(directors)\n",
    "    movie['directors'] = directors\n",
    "    \n",
    "    writers = find_non_none(\n",
    "                            movie_metadata.find('span', string=re.compile(r'Roteirista(s)?')),\n",
    "                            movie_metadata.find('a', string=re.compile(r'Roteirista(s)?'))\n",
    "                        ) \\\n",
    "                        .find_parent().find_all('li', attrs={'class': 'ipc-inline-list__item'})\n",
    "    writers = [writers.text for writers in writers]\n",
    "    #print(writers)\n",
    "    movie['writers'] = writers\n",
    "    \n",
    "    stars = find_non_none(\n",
    "                            movie_metadata.find('span', string=re.compile(r'Artistas')),\n",
    "                            movie_metadata.find('a', string=re.compile(r'Artistas'))\n",
    "                        ) \\\n",
    "                        .find_parent().find_all('li', attrs={'class': 'ipc-inline-list__item'})\n",
    "    stars = [star.text for star in stars]\n",
    "    #print(writers)\n",
    "    movie['stars'] = stars\n",
    "    \n",
    "    # ---\n",
    "    \n",
    "    cast_actor_chars = []\n",
    "    \n",
    "    cast_cards = soup.find_all('div', attrs={'data-testid': 'title-cast-item'})\n",
    "    cast_chars = []\n",
    "    for cast_card in cast_cards:\n",
    "        cast_actor = cast_card.find('a', attrs={'data-testid': 'title-cast-item__actor'}).text\n",
    "        #print(cast_actor)\n",
    "        if cast_card.find('div', attrs={'class': 'title-cast-item__characters-list'}):\n",
    "            cast_chars = cast_card \\\n",
    "                            .find('div', attrs={'class': 'title-cast-item__characters-list'}) \\\n",
    "                            .find('li', attrs={'class': 'ipc-inline-list__item'})\n",
    "            cast_chars = [cast_char.text for cast_char in cast_chars]\n",
    "            #print(cast_chars)\n",
    "        cast_actor_chars.append((cast_actor, cast_chars))\n",
    "    movie['cast_actor_chars'] = cast_actor_chars\n",
    "    \n",
    "    # ---\n",
    "    \n",
    "    details_section = soup.find('section', attrs={'data-testid': 'Details'})\n",
    "    \n",
    "    release_date = details_section.find('a', string='Data de lançamento') \\\n",
    "                                  .find_parent().find_all()[1].text\n",
    "    \n",
    "    country_origin = details_section.find('span', string=re.compile(r'País(es)? de origem')) \\\n",
    "                                    .find_parent().find_all('li')\n",
    "    \n",
    "    country_origin = [country.text for country in country_origin]\n",
    "    \n",
    "    language = details_section.find('span', string=re.compile(r'Idioma(s)?')) \\\n",
    "                                    .find_parent().find_all('li')\n",
    "    \n",
    "    language = [lang.text for lang in language]\n",
    "    \n",
    "    movie['details'] = {\n",
    "        'release_date': release_date,\n",
    "        'country_origin': country_origin,\n",
    "        'language': language\n",
    "    }\n",
    "    \n",
    "    driver.quit()"
   ]
  },
  {
   "cell_type": "code",
   "execution_count": 58,
   "id": "26b76f11-331f-40d6-a7a2-d508a3968edc",
   "metadata": {
    "tags": []
   },
   "outputs": [
    {
     "data": {
      "text/plain": [
       "{'id': 'tt0111161',\n",
       " 'title': 'Um Sonho de Liberdade',\n",
       " 'link': '/title/tt0111161/?ref_=sr_t_1',\n",
       " 'year': '1994',\n",
       " 'duration': '2h 22m',\n",
       " 'certificate': '16',\n",
       " 'rating': '9.3',\n",
       " 'vote_count': '2.9 mi',\n",
       " 'metascore': '82',\n",
       " 'info': 'Dois homens presos se reúnem ao longo de vários anos, encontrando consolo e eventual redenção através de atos de decência comum.',\n",
       " 'interests': ['Epic', 'Period Drama', 'Prison Drama', 'Tragedy', 'Drama'],\n",
       " 'directors': ['Frank Darabont'],\n",
       " 'writers': ['Stephen King', 'Frank Darabont'],\n",
       " 'stars': ['Tim Robbins', 'Morgan Freeman', 'Bob Gunton'],\n",
       " 'cast_actor_chars': [('Tim Robbins', ['Andy Dufresne']),\n",
       "  ('Morgan Freeman', [\"Ellis Boyd 'Red' Redding\"]),\n",
       "  ('Bob Gunton', ['Warden Norton']),\n",
       "  ('William Sadler', ['Heywood']),\n",
       "  ('Clancy Brown', ['Captain Hadley']),\n",
       "  ('Gil Bellows', ['Tommy']),\n",
       "  ('Mark Rolston', ['Bogs Diamond']),\n",
       "  ('James Whitmore', ['Brooks Hatlen']),\n",
       "  ('Jeffrey DeMunn', ['1946 D.A.']),\n",
       "  ('Larry Brandenburg', ['Skeet']),\n",
       "  ('Neil Giuntoli', ['Jigger']),\n",
       "  ('Brian Libby', ['Floyd']),\n",
       "  ('David Proval', ['Snooze']),\n",
       "  ('Joseph Ragno', ['Ernie']),\n",
       "  ('Jude Ciccolella', ['Guard Mert']),\n",
       "  ('Paul McCrane', ['Guard Trout']),\n",
       "  ('Renee Blaine', [\"Andy Dufresne's Wife\"]),\n",
       "  ('Scott Mann', ['Glenn Quentin'])],\n",
       " 'details': {'release_date': '17 de março de 1995 (Brasil)',\n",
       "  'country_origin': ['Estados Unidos da América'],\n",
       "  'language': ['Inglês']}}"
      ]
     },
     "execution_count": 58,
     "metadata": {},
     "output_type": "execute_result"
    }
   ],
   "source": [
    "movies[0]"
   ]
  },
  {
   "cell_type": "code",
   "execution_count": null,
   "id": "49249810-16f3-4415-a9d2-c05e4ccbedd8",
   "metadata": {},
   "outputs": [],
   "source": []
  }
 ],
 "metadata": {
  "kernelspec": {
   "display_name": "Python 3 (ipykernel)",
   "language": "python",
   "name": "python3"
  },
  "language_info": {
   "codemirror_mode": {
    "name": "ipython",
    "version": 3
   },
   "file_extension": ".py",
   "mimetype": "text/x-python",
   "name": "python",
   "nbconvert_exporter": "python",
   "pygments_lexer": "ipython3",
   "version": "3.11.5"
  }
 },
 "nbformat": 4,
 "nbformat_minor": 5
}
